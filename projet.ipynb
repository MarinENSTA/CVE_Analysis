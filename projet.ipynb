{
 "cells": [
  {
   "cell_type": "markdown",
   "metadata": {},
   "source": [
    "# **Initialisation**\n",
    "Initialisation de la base de données spark"
   ]
  },
  {
   "cell_type": "code",
   "execution_count": null,
   "metadata": {},
   "outputs": [],
   "source": [
    "import os\n",
    "import findspark\n",
    "\n",
    "findspark.init()\n",
    "\n",
    "import spark\n"
   ]
  },
  {
   "cell_type": "code",
   "execution_count": null,
   "metadata": {},
   "outputs": [],
   "source": [
    "import configparser\n",
    "\n",
    "config = configparser.ConfigParser()"
   ]
  },
  {
   "cell_type": "code",
   "execution_count": null,
   "metadata": {},
   "outputs": [],
   "source": [
    "from pyspark.sql import SparkSession\n",
    "from pyspark.sql.functions import *\n",
    "\n",
    "spark = SparkSession.builder.master(\"local\").appName(\"Import\").getOrCreate()"
   ]
  },
  {
   "cell_type": "markdown",
   "metadata": {},
   "source": [
    "# **Extraction**\n",
    "Premier regard sur la base de données "
   ]
  },
  {
   "cell_type": "code",
   "execution_count": null,
   "metadata": {},
   "outputs": [],
   "source": [
    "df = spark.read.option(\"multiline\",\"true\").json(\"/home/marins/3A-ENSTA/Big data project/nvdcve-1.1-2022.json\")\n",
    "df = df.select(explode(col(\"CVE_Items\")))\n",
    "df = df.select(\"col.cve.CVE_data_meta.*\",\"col.impact.baseMetricV3.cvssV3.*\").drop(\"version\").drop(\"vectorString\")\n",
    "\n",
    "json_files = os.listdir(\"/home/marins/3A-ENSTA/Big data project/CVE_Analysis/src/\")\n",
    "for json in json_files:\n",
    "      if json_files != 'nvdcve-1.1-2022.json' :\n",
    "            print(\"Importing\", json,\"...\")\n",
    "            df_temp = spark.read.option(\"multiline\",\"true\").json(\"/home/marins/3A-ENSTA/Big data project/CVE_Analysis/src/\"+json)\n",
    "            df_temp = df_temp.select(explode(col(\"CVE_Items\")))\n",
    "            df_temp = df_temp.select(\"col.cve.CVE_data_meta.*\",\"col.impact.baseMetricV3.cvssV3.*\").drop(\"version\").drop(\"vectorString\")\n",
    "            df = df.union(df_temp)\n",
    "\n",
    "\n",
    "print(\"Schema initial : \")\n",
    "df.printSchema()\n"
   ]
  },
  {
   "cell_type": "markdown",
   "metadata": {},
   "source": [
    "Extraction des données pertinents via select(). "
   ]
  },
  {
   "cell_type": "code",
   "execution_count": null,
   "metadata": {},
   "outputs": [],
   "source": [
    "print(\"Columns : \",df.columns)\n",
    "#df.printSchema()"
   ]
  },
  {
   "cell_type": "markdown",
   "metadata": {},
   "source": [
    "Affichage des premières lignes et du nombre de samples à disposition pour se faire une idée."
   ]
  },
  {
   "cell_type": "markdown",
   "metadata": {},
   "source": []
  },
  {
   "cell_type": "code",
   "execution_count": null,
   "metadata": {},
   "outputs": [],
   "source": [
    "print(df.tail(1)) "
   ]
  },
  {
   "cell_type": "markdown",
   "metadata": {},
   "source": [
    "# Machine Learning Prediction\n",
    "Tentative de prédiction du baseScore d'une CVE via les données cvssV3 ingurgitées.\n"
   ]
  },
  {
   "cell_type": "code",
   "execution_count": null,
   "metadata": {},
   "outputs": [],
   "source": [
    "import pandas as pd\n",
    "pandasDF = df.toPandas()\n",
    "print(pandasDF.columns)\n",
    "\n",
    "print(pandasDF.shape[0])\n",
    "\n",
    "pandasDF = pandasDF[pandasDF['baseScore'].notna()]\n",
    "\n",
    "print(pandasDF.shape[0])\n",
    "\n",
    "\n",
    "pandasDF.head(3)"
   ]
  },
  {
   "cell_type": "code",
   "execution_count": null,
   "metadata": {},
   "outputs": [],
   "source": [
    "target_column = \"baseScore\"\n",
    "target = pandasDF[target_column]\n",
    "\n",
    "categorical_columns = [\"attackComplexity\",\n",
    "                       \"attackVector\",\n",
    "                       \"availabilityImpact\",\n",
    "                       \"confidentialityImpact\",\n",
    "                       \"integrityImpact\",\n",
    "                       \"privilegesRequired\",\n",
    "                       \"scope\",\n",
    "                       \"userInteraction\"]\n",
    "\n",
    "data = pandasDF[categorical_columns]\n"
   ]
  },
  {
   "cell_type": "markdown",
   "metadata": {},
   "source": [
    "Affichage des types des différentes colonnes"
   ]
  },
  {
   "cell_type": "code",
   "execution_count": null,
   "metadata": {},
   "outputs": [],
   "source": [
    "target.dtypes"
   ]
  },
  {
   "cell_type": "code",
   "execution_count": null,
   "metadata": {},
   "outputs": [],
   "source": [
    "data.dtypes"
   ]
  },
  {
   "cell_type": "code",
   "execution_count": null,
   "metadata": {},
   "outputs": [],
   "source": [
    "import numpy as np\n",
    "#pd.set_option(\"display.max_rows\", None)\n",
    "\n",
    "target.value_counts().sort_index()\n",
    "\n",
    "len(np.where(np.isnan(target))[0])\n"
   ]
  },
  {
   "cell_type": "code",
   "execution_count": null,
   "metadata": {},
   "outputs": [],
   "source": [
    "from sklearn.preprocessing import OneHotEncoder, OrdinalEncoder\n",
    "from sklearn.linear_model import LogisticRegression, SGDClassifier, Lasso\n",
    "from sklearn.neighbors import KNeighborsClassifier\n",
    "from sklearn.svm import SVC\n",
    "from sklearn.tree import DecisionTreeRegressor # very good\n",
    "from sklearn.linear_model import LinearRegression # very good\n",
    "from sklearn.ensemble import HistGradientBoostingClassifier\n",
    "\n",
    "from sklearn.pipeline import make_pipeline\n",
    "\n",
    "# Onehot ==> Linéaire\n",
    "# Ordinal = Treebased\n",
    "\n",
    "model = make_pipeline(OneHotEncoder(sparse=False),LinearRegression())\n",
    "model"
   ]
  },
  {
   "cell_type": "code",
   "execution_count": null,
   "metadata": {},
   "outputs": [],
   "source": [
    "from sklearn.model_selection import cross_validate\n",
    "\n",
    "cv_results = cross_validate(model, data, target, cv = 5)\n"
   ]
  },
  {
   "cell_type": "code",
   "execution_count": null,
   "metadata": {},
   "outputs": [],
   "source": [
    "cv_results[\"test_score\"].mean()"
   ]
  },
  {
   "cell_type": "markdown",
   "metadata": {},
   "source": [
    "# Plotting \n",
    "\n",
    "Une bonne doc pour expliquer les paramètres du score v3 : https://www.first.org/cvss/specification-document\n",
    "\n",
    "https://nvd.nist.gov/vuln-metrics/cvss/v3-calculator"
   ]
  },
  {
   "cell_type": "code",
   "execution_count": null,
   "metadata": {},
   "outputs": [],
   "source": [
    "import numpy as np\n",
    "import plotly.express as px\n",
    "import numpy as np\n",
    "\n",
    "# def severity_scorer(severity):\n",
    "#     print(severity)\n",
    "#     if severity==\"None\":\n",
    "#         return 4\n",
    "#     if severity=='CRITICAL':\n",
    "#         return 0\n",
    "#     elif severity=='HIGH':\n",
    "#         return 1\n",
    "#     elif severity=='MEDIUM':\n",
    "#         return 2\n",
    "#     elif severity=='LOW':\n",
    "#         return 3\n",
    "\n",
    "# severity_column = [\"baseSeverity\"]\n",
    "\n",
    "\n",
    "plotready_PandasDF = pandasDF[categorical_columns+[target_column]]\n",
    "plotready_PandasDF['baseScore'] = plotready_PandasDF[\"baseScore\"].apply(np.ceil)\n",
    "plotready_PandasDF = plotready_PandasDF.sort_values(by=['baseScore'], ascending=False)\n",
    "\n",
    "plotready_PandasDF = plotready_PandasDF.reset_index()\n",
    "plotready_PandasDF = plotready_PandasDF[[\"attackComplexity\",\n",
    "                                        \"attackVector\",\n",
    "                                        \"privilegesRequired\",\n",
    "                                        \"scope\",\n",
    "                                        \"userInteraction\",\n",
    "                                        \"availabilityImpact\",\n",
    "                                        \"integrityImpact\",\n",
    "                                        \"confidentialityImpact\",\n",
    "                                        \"baseScore\"]]\n",
    "\n"
   ]
  },
  {
   "cell_type": "code",
   "execution_count": null,
   "metadata": {},
   "outputs": [],
   "source": [
    "fig = px.parallel_categories(\n",
    "    plotready_PandasDF, \n",
    "    labels={\"baseScore\": \"Score CVSSV3\",\n",
    "                \"attackComplexity\": \"Complexité\", \"attackVector\": \"Vecteur d'attaque\",\n",
    "                \"availabilityImpact\": \"Impact : Disponibilité\", \"confidentialityImpact\": \"Impact : Confidentialité\",\n",
    "                \"integrityImpact\": \"Impact : Intégrité\" , \"privilegesRequired\": \"Privilèges nécessaires\", \"userInteraction\" : \"Interaction utilisateur\",\n",
    "                \"baseSeverity\" : \"Sévérité\", \"scope\" : \"Etendue\"},\n",
    "    color=\"baseScore\",\n",
    "    color_continuous_scale=px.colors.sequential.Viridis,\n",
    "    height=700,\n",
    "    width=1700\n",
    ")\n",
    "fig.show()"
   ]
  },
  {
   "cell_type": "code",
   "execution_count": null,
   "metadata": {},
   "outputs": [],
   "source": []
  }
 ],
 "metadata": {
  "kernelspec": {
   "display_name": "Python 3.8.10 64-bit",
   "language": "python",
   "name": "python3"
  },
  "language_info": {
   "codemirror_mode": {
    "name": "ipython",
    "version": 3
   },
   "file_extension": ".py",
   "mimetype": "text/x-python",
   "name": "python",
   "nbconvert_exporter": "python",
   "pygments_lexer": "ipython3",
   "version": "3.8.10"
  },
  "orig_nbformat": 4,
  "vscode": {
   "interpreter": {
    "hash": "916dbcbb3f70747c44a77c7bcd40155683ae19c65e1c03b4aa3499c5328201f1"
   }
  }
 },
 "nbformat": 4,
 "nbformat_minor": 2
}
