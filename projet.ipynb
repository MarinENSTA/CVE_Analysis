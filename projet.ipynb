{
 "cells": [
  {
   "cell_type": "markdown",
   "metadata": {},
   "source": [
    "# **Initialisation**\n",
    "Initialisation de la base de données spark"
   ]
  },
  {
   "cell_type": "code",
   "execution_count": 18,
   "metadata": {},
   "outputs": [],
   "source": [
    "import os\n",
    "import findspark\n",
    "\n",
    "findspark.init()\n",
    "\n",
    "import spark\n"
   ]
  },
  {
   "cell_type": "code",
   "execution_count": 19,
   "metadata": {},
   "outputs": [],
   "source": [
    "import configparser\n",
    "\n",
    "config = configparser.ConfigParser()"
   ]
  },
  {
   "cell_type": "code",
   "execution_count": 20,
   "metadata": {},
   "outputs": [],
   "source": [
    "from pyspark.sql import SparkSession\n",
    "from pyspark.sql.functions import *\n",
    "\n",
    "spark = SparkSession.builder.master(\"local\").appName(\"Import\").getOrCreate()"
   ]
  },
  {
   "cell_type": "markdown",
   "metadata": {},
   "source": [
    "# **Extraction**\n",
    "Premier regard sur la base de données "
   ]
  },
  {
   "cell_type": "code",
   "execution_count": 23,
   "metadata": {},
   "outputs": [
    {
     "name": "stdout",
     "output_type": "stream",
     "text": [
      "['nvdcve-1.1-2022.json', 'nvdcve-1.1-2020.json', 'nvdcve-1.1-2018.json', 'nvdcve-1.1-2016.json', 'nvdcve-1.1-2021.json', 'nvdcve-1.1-2019.json', 'nvdcve-1.1-2017.json']\n"
     ]
    },
    {
     "name": "stderr",
     "output_type": "stream",
     "text": [
      "                                                                                \r"
     ]
    },
    {
     "name": "stdout",
     "output_type": "stream",
     "text": [
      "Schema initial : \n",
      "root\n",
      " |-- ASSIGNER: string (nullable = true)\n",
      " |-- ID: string (nullable = true)\n",
      " |-- attackComplexity: string (nullable = true)\n",
      " |-- attackVector: string (nullable = true)\n",
      " |-- availabilityImpact: string (nullable = true)\n",
      " |-- baseScore: double (nullable = true)\n",
      " |-- baseSeverity: string (nullable = true)\n",
      " |-- confidentialityImpact: string (nullable = true)\n",
      " |-- integrityImpact: string (nullable = true)\n",
      " |-- privilegesRequired: string (nullable = true)\n",
      " |-- scope: string (nullable = true)\n",
      " |-- userInteraction: string (nullable = true)\n",
      "\n"
     ]
    },
    {
     "ename": "AnalysisException",
     "evalue": "Column 'CVE_Items' does not exist. Did you mean one of the following? [ASSIGNER, ID, scope, baseScore, attackVector, baseSeverity, userInteraction, integrityImpact, attackComplexity, availabilityImpact, privilegesRequired, confidentialityImpact];\n'Project [explode('CVE_Items) AS List()]\n+- Project [ASSIGNER#16, ID#17, attackComplexity#19, attackVector#20, availabilityImpact#21, baseScore#22, baseSeverity#23, confidentialityImpact#24, integrityImpact#25, privilegesRequired#26, scope#27, userInteraction#28]\n   +- Project [ASSIGNER#16, ID#17, attackComplexity#19, attackVector#20, availabilityImpact#21, baseScore#22, baseSeverity#23, confidentialityImpact#24, integrityImpact#25, privilegesRequired#26, scope#27, userInteraction#28, vectorString#29]\n      +- Project [col#12.cve.CVE_data_meta.ASSIGNER AS ASSIGNER#16, col#12.cve.CVE_data_meta.ID AS ID#17, col#12.impact.baseMetricV3.cvssV3.attackComplexity AS attackComplexity#19, col#12.impact.baseMetricV3.cvssV3.attackVector AS attackVector#20, col#12.impact.baseMetricV3.cvssV3.availabilityImpact AS availabilityImpact#21, col#12.impact.baseMetricV3.cvssV3.baseScore AS baseScore#22, col#12.impact.baseMetricV3.cvssV3.baseSeverity AS baseSeverity#23, col#12.impact.baseMetricV3.cvssV3.confidentialityImpact AS confidentialityImpact#24, col#12.impact.baseMetricV3.cvssV3.integrityImpact AS integrityImpact#25, col#12.impact.baseMetricV3.cvssV3.privilegesRequired AS privilegesRequired#26, col#12.impact.baseMetricV3.cvssV3.scope AS scope#27, col#12.impact.baseMetricV3.cvssV3.userInteraction AS userInteraction#28, col#12.impact.baseMetricV3.cvssV3.vectorString AS vectorString#29, col#12.impact.baseMetricV3.cvssV3.version AS version#30]\n         +- Project [col#12]\n            +- Generate explode(CVE_Items#0), false, [col#12]\n               +- Relation [CVE_Items#0,CVE_data_format#1,CVE_data_numberOfCVEs#2,CVE_data_timestamp#3,CVE_data_type#4,CVE_data_version#5] json\n",
     "output_type": "error",
     "traceback": [
      "\u001b[0;31m---------------------------------------------------------------------------\u001b[0m",
      "\u001b[0;31mAnalysisException\u001b[0m                         Traceback (most recent call last)",
      "\u001b[0;32m/tmp/ipykernel_9147/3507503416.py\u001b[0m in \u001b[0;36m<module>\u001b[0;34m\u001b[0m\n\u001b[1;32m      8\u001b[0m \u001b[0mdf\u001b[0m\u001b[0;34m.\u001b[0m\u001b[0mprintSchema\u001b[0m\u001b[0;34m(\u001b[0m\u001b[0;34m)\u001b[0m\u001b[0;34m\u001b[0m\u001b[0;34m\u001b[0m\u001b[0m\n\u001b[1;32m      9\u001b[0m \u001b[0;34m\u001b[0m\u001b[0m\n\u001b[0;32m---> 10\u001b[0;31m \u001b[0mdf\u001b[0m \u001b[0;34m=\u001b[0m \u001b[0mdf\u001b[0m\u001b[0;34m.\u001b[0m\u001b[0mselect\u001b[0m\u001b[0;34m(\u001b[0m\u001b[0mexplode\u001b[0m\u001b[0;34m(\u001b[0m\u001b[0mcol\u001b[0m\u001b[0;34m(\u001b[0m\u001b[0;34m\"CVE_Items\"\u001b[0m\u001b[0;34m)\u001b[0m\u001b[0;34m)\u001b[0m\u001b[0;34m)\u001b[0m\u001b[0;34m\u001b[0m\u001b[0;34m\u001b[0m\u001b[0m\n\u001b[0m",
      "\u001b[0;32m~/.local/lib/python3.8/site-packages/pyspark/sql/dataframe.py\u001b[0m in \u001b[0;36mselect\u001b[0;34m(self, *cols)\u001b[0m\n\u001b[1;32m   2021\u001b[0m         \u001b[0;34m[\u001b[0m\u001b[0mRow\u001b[0m\u001b[0;34m(\u001b[0m\u001b[0mname\u001b[0m\u001b[0;34m=\u001b[0m\u001b[0;34m'Alice'\u001b[0m\u001b[0;34m,\u001b[0m \u001b[0mage\u001b[0m\u001b[0;34m=\u001b[0m\u001b[0;36m12\u001b[0m\u001b[0;34m)\u001b[0m\u001b[0;34m,\u001b[0m \u001b[0mRow\u001b[0m\u001b[0;34m(\u001b[0m\u001b[0mname\u001b[0m\u001b[0;34m=\u001b[0m\u001b[0;34m'Bob'\u001b[0m\u001b[0;34m,\u001b[0m \u001b[0mage\u001b[0m\u001b[0;34m=\u001b[0m\u001b[0;36m15\u001b[0m\u001b[0;34m)\u001b[0m\u001b[0;34m]\u001b[0m\u001b[0;34m\u001b[0m\u001b[0;34m\u001b[0m\u001b[0m\n\u001b[1;32m   2022\u001b[0m         \"\"\"\n\u001b[0;32m-> 2023\u001b[0;31m         \u001b[0mjdf\u001b[0m \u001b[0;34m=\u001b[0m \u001b[0mself\u001b[0m\u001b[0;34m.\u001b[0m\u001b[0m_jdf\u001b[0m\u001b[0;34m.\u001b[0m\u001b[0mselect\u001b[0m\u001b[0;34m(\u001b[0m\u001b[0mself\u001b[0m\u001b[0;34m.\u001b[0m\u001b[0m_jcols\u001b[0m\u001b[0;34m(\u001b[0m\u001b[0;34m*\u001b[0m\u001b[0mcols\u001b[0m\u001b[0;34m)\u001b[0m\u001b[0;34m)\u001b[0m\u001b[0;34m\u001b[0m\u001b[0;34m\u001b[0m\u001b[0m\n\u001b[0m\u001b[1;32m   2024\u001b[0m         \u001b[0;32mreturn\u001b[0m \u001b[0mDataFrame\u001b[0m\u001b[0;34m(\u001b[0m\u001b[0mjdf\u001b[0m\u001b[0;34m,\u001b[0m \u001b[0mself\u001b[0m\u001b[0;34m.\u001b[0m\u001b[0msparkSession\u001b[0m\u001b[0;34m)\u001b[0m\u001b[0;34m\u001b[0m\u001b[0;34m\u001b[0m\u001b[0m\n\u001b[1;32m   2025\u001b[0m \u001b[0;34m\u001b[0m\u001b[0m\n",
      "\u001b[0;32m~/.local/lib/python3.8/site-packages/py4j/java_gateway.py\u001b[0m in \u001b[0;36m__call__\u001b[0;34m(self, *args)\u001b[0m\n\u001b[1;32m   1319\u001b[0m \u001b[0;34m\u001b[0m\u001b[0m\n\u001b[1;32m   1320\u001b[0m         \u001b[0manswer\u001b[0m \u001b[0;34m=\u001b[0m \u001b[0mself\u001b[0m\u001b[0;34m.\u001b[0m\u001b[0mgateway_client\u001b[0m\u001b[0;34m.\u001b[0m\u001b[0msend_command\u001b[0m\u001b[0;34m(\u001b[0m\u001b[0mcommand\u001b[0m\u001b[0;34m)\u001b[0m\u001b[0;34m\u001b[0m\u001b[0;34m\u001b[0m\u001b[0m\n\u001b[0;32m-> 1321\u001b[0;31m         return_value = get_return_value(\n\u001b[0m\u001b[1;32m   1322\u001b[0m             answer, self.gateway_client, self.target_id, self.name)\n\u001b[1;32m   1323\u001b[0m \u001b[0;34m\u001b[0m\u001b[0m\n",
      "\u001b[0;32m~/.local/lib/python3.8/site-packages/pyspark/sql/utils.py\u001b[0m in \u001b[0;36mdeco\u001b[0;34m(*a, **kw)\u001b[0m\n\u001b[1;32m    194\u001b[0m                 \u001b[0;31m# Hide where the exception came from that shows a non-Pythonic\u001b[0m\u001b[0;34m\u001b[0m\u001b[0;34m\u001b[0m\u001b[0;34m\u001b[0m\u001b[0m\n\u001b[1;32m    195\u001b[0m                 \u001b[0;31m# JVM exception message.\u001b[0m\u001b[0;34m\u001b[0m\u001b[0;34m\u001b[0m\u001b[0;34m\u001b[0m\u001b[0m\n\u001b[0;32m--> 196\u001b[0;31m                 \u001b[0;32mraise\u001b[0m \u001b[0mconverted\u001b[0m \u001b[0;32mfrom\u001b[0m \u001b[0;32mNone\u001b[0m\u001b[0;34m\u001b[0m\u001b[0;34m\u001b[0m\u001b[0m\n\u001b[0m\u001b[1;32m    197\u001b[0m             \u001b[0;32melse\u001b[0m\u001b[0;34m:\u001b[0m\u001b[0;34m\u001b[0m\u001b[0;34m\u001b[0m\u001b[0m\n\u001b[1;32m    198\u001b[0m                 \u001b[0;32mraise\u001b[0m\u001b[0;34m\u001b[0m\u001b[0;34m\u001b[0m\u001b[0m\n",
      "\u001b[0;31mAnalysisException\u001b[0m: Column 'CVE_Items' does not exist. Did you mean one of the following? [ASSIGNER, ID, scope, baseScore, attackVector, baseSeverity, userInteraction, integrityImpact, attackComplexity, availabilityImpact, privilegesRequired, confidentialityImpact];\n'Project [explode('CVE_Items) AS List()]\n+- Project [ASSIGNER#16, ID#17, attackComplexity#19, attackVector#20, availabilityImpact#21, baseScore#22, baseSeverity#23, confidentialityImpact#24, integrityImpact#25, privilegesRequired#26, scope#27, userInteraction#28]\n   +- Project [ASSIGNER#16, ID#17, attackComplexity#19, attackVector#20, availabilityImpact#21, baseScore#22, baseSeverity#23, confidentialityImpact#24, integrityImpact#25, privilegesRequired#26, scope#27, userInteraction#28, vectorString#29]\n      +- Project [col#12.cve.CVE_data_meta.ASSIGNER AS ASSIGNER#16, col#12.cve.CVE_data_meta.ID AS ID#17, col#12.impact.baseMetricV3.cvssV3.attackComplexity AS attackComplexity#19, col#12.impact.baseMetricV3.cvssV3.attackVector AS attackVector#20, col#12.impact.baseMetricV3.cvssV3.availabilityImpact AS availabilityImpact#21, col#12.impact.baseMetricV3.cvssV3.baseScore AS baseScore#22, col#12.impact.baseMetricV3.cvssV3.baseSeverity AS baseSeverity#23, col#12.impact.baseMetricV3.cvssV3.confidentialityImpact AS confidentialityImpact#24, col#12.impact.baseMetricV3.cvssV3.integrityImpact AS integrityImpact#25, col#12.impact.baseMetricV3.cvssV3.privilegesRequired AS privilegesRequired#26, col#12.impact.baseMetricV3.cvssV3.scope AS scope#27, col#12.impact.baseMetricV3.cvssV3.userInteraction AS userInteraction#28, col#12.impact.baseMetricV3.cvssV3.vectorString AS vectorString#29, col#12.impact.baseMetricV3.cvssV3.version AS version#30]\n         +- Project [col#12]\n            +- Generate explode(CVE_Items#0), false, [col#12]\n               +- Relation [CVE_Items#0,CVE_data_format#1,CVE_data_numberOfCVEs#2,CVE_data_timestamp#3,CVE_data_type#4,CVE_data_version#5] json\n"
     ]
    }
   ],
   "source": [
    "json_files = os.listdir(\"/home/marins/3A-ENSTA/Big data project/CVE_Analysis/src/\")\n",
    "print(json_files)\n",
    "\n",
    "for json in json_files:\n",
    "    df_temp = spark.read.option(\"multiline\",\"true\").json(\"/home/marins/3A-ENSTA/Big data project/CVE_Analysis/src/\"+json)\n",
    "\n",
    "print(\"Schema initial : \")\n",
    "df_temp.printSchema()\n",
    "\n",
    "df = df.select(explode(col(\"CVE_Items\")))\n"
   ]
  },
  {
   "cell_type": "markdown",
   "metadata": {},
   "source": [
    "Extraction des données pertinents via select(). "
   ]
  },
  {
   "cell_type": "code",
   "execution_count": null,
   "metadata": {},
   "outputs": [
    {
     "name": "stdout",
     "output_type": "stream",
     "text": [
      "Columns :  ['ASSIGNER', 'ID', 'attackComplexity', 'attackVector', 'availabilityImpact', 'baseScore', 'baseSeverity', 'confidentialityImpact', 'integrityImpact', 'privilegesRequired', 'scope', 'userInteraction']\n"
     ]
    }
   ],
   "source": [
    "df = df.select(\"col.cve.CVE_data_meta.*\",\"col.impact.baseMetricV3.cvssV3.*\").drop(\"version\").drop(\"vectorString\")\n",
    "\n",
    "print(\"Columns : \",df.columns)\n",
    "#df.printSchema()"
   ]
  },
  {
   "cell_type": "markdown",
   "metadata": {},
   "source": [
    "Affichage des premières lignes et du nombre de samples à disposition pour se faire une idée."
   ]
  },
  {
   "cell_type": "code",
   "execution_count": null,
   "metadata": {},
   "outputs": [
    {
     "name": "stderr",
     "output_type": "stream",
     "text": [
      "                                                                                \r"
     ]
    },
    {
     "name": "stdout",
     "output_type": "stream",
     "text": [
      "Number of available rows :  10510\n"
     ]
    },
    {
     "name": "stderr",
     "output_type": "stream",
     "text": [
      "[Stage 4:>                                                          (0 + 1) / 1]\r"
     ]
    },
    {
     "name": "stdout",
     "output_type": "stream",
     "text": [
      "+--------------------+-------------+----------------+------------+------------------+---------+------------+---------------------+---------------+------------------+---------+---------------+\n",
      "|            ASSIGNER|           ID|attackComplexity|attackVector|availabilityImpact|baseScore|baseSeverity|confidentialityImpact|integrityImpact|privilegesRequired|    scope|userInteraction|\n",
      "+--------------------+-------------+----------------+------------+------------------+---------+------------+---------------------+---------------+------------------+---------+---------------+\n",
      "|       cve@mitre.org|CVE-2016-0001|            null|        null|              null|     null|        null|                 null|           null|              null|     null|           null|\n",
      "|secure@microsoft.com|CVE-2016-0002|            HIGH|     NETWORK|              HIGH|      7.5|        HIGH|                 HIGH|           HIGH|              NONE|UNCHANGED|       REQUIRED|\n",
      "|secure@microsoft.com|CVE-2016-0003|             LOW|     NETWORK|              HIGH|      9.6|    CRITICAL|                 HIGH|           HIGH|              NONE|  CHANGED|       REQUIRED|\n",
      "|       cve@mitre.org|CVE-2016-0004|            null|        null|              null|     null|        null|                 null|           null|              null|     null|           null|\n",
      "|secure@microsoft.com|CVE-2016-0005|             LOW|     NETWORK|              NONE|      4.3|      MEDIUM|                 NONE|            LOW|              NONE|UNCHANGED|       REQUIRED|\n",
      "+--------------------+-------------+----------------+------------+------------------+---------+------------+---------------------+---------------+------------------+---------+---------------+\n",
      "only showing top 5 rows\n",
      "\n"
     ]
    },
    {
     "name": "stderr",
     "output_type": "stream",
     "text": [
      "                                                                                \r"
     ]
    }
   ],
   "source": [
    "print(\"Number of available rows : \", df.count())\n",
    "df.show(5)"
   ]
  },
  {
   "cell_type": "markdown",
   "metadata": {},
   "source": [
    "Essai de la fonction tail pour récupérer des données. Pas idéal. La fonction \"collect()\" semble bien plus adaptée."
   ]
  },
  {
   "cell_type": "code",
   "execution_count": null,
   "metadata": {},
   "outputs": [
    {
     "name": "stderr",
     "output_type": "stream",
     "text": [
      "[Stage 5:>                                                          (0 + 1) / 1]\r"
     ]
    },
    {
     "name": "stdout",
     "output_type": "stream",
     "text": [
      "[Row(ASSIGNER='cve@mitre.org', ID='CVE-2016-9998', attackComplexity='LOW', attackVector='NETWORK', availabilityImpact='NONE', baseScore=6.1, baseSeverity='MEDIUM', confidentialityImpact='LOW', integrityImpact='LOW', privilegesRequired='NONE', scope='CHANGED', userInteraction='REQUIRED')]\n"
     ]
    },
    {
     "name": "stderr",
     "output_type": "stream",
     "text": [
      "                                                                                \r"
     ]
    }
   ],
   "source": [
    "print(df.tail(1)) "
   ]
  },
  {
   "cell_type": "markdown",
   "metadata": {},
   "source": [
    "# Machine Learning Prediction\n",
    "Tentative de prédiction du baseScore d'une CVE via les données cvssV3 ingurgitées.\n"
   ]
  },
  {
   "cell_type": "code",
   "execution_count": null,
   "metadata": {},
   "outputs": [
    {
     "name": "stderr",
     "output_type": "stream",
     "text": [
      "                                                                                \r"
     ]
    },
    {
     "name": "stdout",
     "output_type": "stream",
     "text": [
      "Index(['ASSIGNER', 'ID', 'attackComplexity', 'attackVector',\n",
      "       'availabilityImpact', 'baseScore', 'baseSeverity',\n",
      "       'confidentialityImpact', 'integrityImpact', 'privilegesRequired',\n",
      "       'scope', 'userInteraction'],\n",
      "      dtype='object')\n",
      "10510\n",
      "9028\n"
     ]
    },
    {
     "data": {
      "text/html": [
       "<div>\n",
       "<style scoped>\n",
       "    .dataframe tbody tr th:only-of-type {\n",
       "        vertical-align: middle;\n",
       "    }\n",
       "\n",
       "    .dataframe tbody tr th {\n",
       "        vertical-align: top;\n",
       "    }\n",
       "\n",
       "    .dataframe thead th {\n",
       "        text-align: right;\n",
       "    }\n",
       "</style>\n",
       "<table border=\"1\" class=\"dataframe\">\n",
       "  <thead>\n",
       "    <tr style=\"text-align: right;\">\n",
       "      <th></th>\n",
       "      <th>ASSIGNER</th>\n",
       "      <th>ID</th>\n",
       "      <th>attackComplexity</th>\n",
       "      <th>attackVector</th>\n",
       "      <th>availabilityImpact</th>\n",
       "      <th>baseScore</th>\n",
       "      <th>baseSeverity</th>\n",
       "      <th>confidentialityImpact</th>\n",
       "      <th>integrityImpact</th>\n",
       "      <th>privilegesRequired</th>\n",
       "      <th>scope</th>\n",
       "      <th>userInteraction</th>\n",
       "    </tr>\n",
       "  </thead>\n",
       "  <tbody>\n",
       "    <tr>\n",
       "      <th>1</th>\n",
       "      <td>secure@microsoft.com</td>\n",
       "      <td>CVE-2016-0002</td>\n",
       "      <td>HIGH</td>\n",
       "      <td>NETWORK</td>\n",
       "      <td>HIGH</td>\n",
       "      <td>7.5</td>\n",
       "      <td>HIGH</td>\n",
       "      <td>HIGH</td>\n",
       "      <td>HIGH</td>\n",
       "      <td>NONE</td>\n",
       "      <td>UNCHANGED</td>\n",
       "      <td>REQUIRED</td>\n",
       "    </tr>\n",
       "    <tr>\n",
       "      <th>2</th>\n",
       "      <td>secure@microsoft.com</td>\n",
       "      <td>CVE-2016-0003</td>\n",
       "      <td>LOW</td>\n",
       "      <td>NETWORK</td>\n",
       "      <td>HIGH</td>\n",
       "      <td>9.6</td>\n",
       "      <td>CRITICAL</td>\n",
       "      <td>HIGH</td>\n",
       "      <td>HIGH</td>\n",
       "      <td>NONE</td>\n",
       "      <td>CHANGED</td>\n",
       "      <td>REQUIRED</td>\n",
       "    </tr>\n",
       "    <tr>\n",
       "      <th>4</th>\n",
       "      <td>secure@microsoft.com</td>\n",
       "      <td>CVE-2016-0005</td>\n",
       "      <td>LOW</td>\n",
       "      <td>NETWORK</td>\n",
       "      <td>NONE</td>\n",
       "      <td>4.3</td>\n",
       "      <td>MEDIUM</td>\n",
       "      <td>NONE</td>\n",
       "      <td>LOW</td>\n",
       "      <td>NONE</td>\n",
       "      <td>UNCHANGED</td>\n",
       "      <td>REQUIRED</td>\n",
       "    </tr>\n",
       "  </tbody>\n",
       "</table>\n",
       "</div>"
      ],
      "text/plain": [
       "               ASSIGNER             ID attackComplexity attackVector  \\\n",
       "1  secure@microsoft.com  CVE-2016-0002             HIGH      NETWORK   \n",
       "2  secure@microsoft.com  CVE-2016-0003              LOW      NETWORK   \n",
       "4  secure@microsoft.com  CVE-2016-0005              LOW      NETWORK   \n",
       "\n",
       "  availabilityImpact  baseScore baseSeverity confidentialityImpact  \\\n",
       "1               HIGH        7.5         HIGH                  HIGH   \n",
       "2               HIGH        9.6     CRITICAL                  HIGH   \n",
       "4               NONE        4.3       MEDIUM                  NONE   \n",
       "\n",
       "  integrityImpact privilegesRequired      scope userInteraction  \n",
       "1            HIGH               NONE  UNCHANGED        REQUIRED  \n",
       "2            HIGH               NONE    CHANGED        REQUIRED  \n",
       "4             LOW               NONE  UNCHANGED        REQUIRED  "
      ]
     },
     "execution_count": 8,
     "metadata": {},
     "output_type": "execute_result"
    }
   ],
   "source": [
    "import pandas as pd\n",
    "pandasDF = df.toPandas()\n",
    "print(pandasDF.columns)\n",
    "\n",
    "print(pandasDF.shape[0])\n",
    "\n",
    "pandasDF = pandasDF[pandasDF['baseScore'].notna()]\n",
    "\n",
    "print(pandasDF.shape[0])\n",
    "\n",
    "\n",
    "pandasDF.head(3)"
   ]
  },
  {
   "cell_type": "code",
   "execution_count": null,
   "metadata": {},
   "outputs": [],
   "source": [
    "target_column = \"baseScore\"\n",
    "target = pandasDF[target_column]\n",
    "\n",
    "categorical_columns = [\"attackComplexity\",\n",
    "                       \"attackVector\",\n",
    "                       \"availabilityImpact\",\n",
    "                       \"confidentialityImpact\",\n",
    "                       \"integrityImpact\",\n",
    "                       \"privilegesRequired\",\n",
    "                       \"scope\",\n",
    "                       \"userInteraction\"]\n",
    "\n",
    "data = pandasDF[categorical_columns]\n"
   ]
  },
  {
   "cell_type": "markdown",
   "metadata": {},
   "source": [
    "Affichage des types des différentes colonnes"
   ]
  },
  {
   "cell_type": "code",
   "execution_count": null,
   "metadata": {},
   "outputs": [
    {
     "data": {
      "text/plain": [
       "dtype('float64')"
      ]
     },
     "execution_count": 10,
     "metadata": {},
     "output_type": "execute_result"
    }
   ],
   "source": [
    "target.dtypes"
   ]
  },
  {
   "cell_type": "code",
   "execution_count": null,
   "metadata": {},
   "outputs": [
    {
     "data": {
      "text/plain": [
       "attackComplexity         object\n",
       "attackVector             object\n",
       "availabilityImpact       object\n",
       "confidentialityImpact    object\n",
       "integrityImpact          object\n",
       "privilegesRequired       object\n",
       "scope                    object\n",
       "userInteraction          object\n",
       "dtype: object"
      ]
     },
     "execution_count": 11,
     "metadata": {},
     "output_type": "execute_result"
    }
   ],
   "source": [
    "data.dtypes"
   ]
  },
  {
   "cell_type": "code",
   "execution_count": null,
   "metadata": {},
   "outputs": [
    {
     "data": {
      "text/plain": [
       "0"
      ]
     },
     "execution_count": 12,
     "metadata": {},
     "output_type": "execute_result"
    }
   ],
   "source": [
    "import numpy as np\n",
    "#pd.set_option(\"display.max_rows\", None)\n",
    "\n",
    "target.value_counts().sort_index()\n",
    "\n",
    "len(np.where(np.isnan(target))[0])\n",
    "\n",
    "#pandasDF.loc[116]"
   ]
  },
  {
   "cell_type": "code",
   "execution_count": null,
   "metadata": {},
   "outputs": [
    {
     "data": {
      "text/html": [
       "<style>#sk-container-id-1 {color: black;background-color: white;}#sk-container-id-1 pre{padding: 0;}#sk-container-id-1 div.sk-toggleable {background-color: white;}#sk-container-id-1 label.sk-toggleable__label {cursor: pointer;display: block;width: 100%;margin-bottom: 0;padding: 0.3em;box-sizing: border-box;text-align: center;}#sk-container-id-1 label.sk-toggleable__label-arrow:before {content: \"▸\";float: left;margin-right: 0.25em;color: #696969;}#sk-container-id-1 label.sk-toggleable__label-arrow:hover:before {color: black;}#sk-container-id-1 div.sk-estimator:hover label.sk-toggleable__label-arrow:before {color: black;}#sk-container-id-1 div.sk-toggleable__content {max-height: 0;max-width: 0;overflow: hidden;text-align: left;background-color: #f0f8ff;}#sk-container-id-1 div.sk-toggleable__content pre {margin: 0.2em;color: black;border-radius: 0.25em;background-color: #f0f8ff;}#sk-container-id-1 input.sk-toggleable__control:checked~div.sk-toggleable__content {max-height: 200px;max-width: 100%;overflow: auto;}#sk-container-id-1 input.sk-toggleable__control:checked~label.sk-toggleable__label-arrow:before {content: \"▾\";}#sk-container-id-1 div.sk-estimator input.sk-toggleable__control:checked~label.sk-toggleable__label {background-color: #d4ebff;}#sk-container-id-1 div.sk-label input.sk-toggleable__control:checked~label.sk-toggleable__label {background-color: #d4ebff;}#sk-container-id-1 input.sk-hidden--visually {border: 0;clip: rect(1px 1px 1px 1px);clip: rect(1px, 1px, 1px, 1px);height: 1px;margin: -1px;overflow: hidden;padding: 0;position: absolute;width: 1px;}#sk-container-id-1 div.sk-estimator {font-family: monospace;background-color: #f0f8ff;border: 1px dotted black;border-radius: 0.25em;box-sizing: border-box;margin-bottom: 0.5em;}#sk-container-id-1 div.sk-estimator:hover {background-color: #d4ebff;}#sk-container-id-1 div.sk-parallel-item::after {content: \"\";width: 100%;border-bottom: 1px solid gray;flex-grow: 1;}#sk-container-id-1 div.sk-label:hover label.sk-toggleable__label {background-color: #d4ebff;}#sk-container-id-1 div.sk-serial::before {content: \"\";position: absolute;border-left: 1px solid gray;box-sizing: border-box;top: 0;bottom: 0;left: 50%;z-index: 0;}#sk-container-id-1 div.sk-serial {display: flex;flex-direction: column;align-items: center;background-color: white;padding-right: 0.2em;padding-left: 0.2em;position: relative;}#sk-container-id-1 div.sk-item {position: relative;z-index: 1;}#sk-container-id-1 div.sk-parallel {display: flex;align-items: stretch;justify-content: center;background-color: white;position: relative;}#sk-container-id-1 div.sk-item::before, #sk-container-id-1 div.sk-parallel-item::before {content: \"\";position: absolute;border-left: 1px solid gray;box-sizing: border-box;top: 0;bottom: 0;left: 50%;z-index: -1;}#sk-container-id-1 div.sk-parallel-item {display: flex;flex-direction: column;z-index: 1;position: relative;background-color: white;}#sk-container-id-1 div.sk-parallel-item:first-child::after {align-self: flex-end;width: 50%;}#sk-container-id-1 div.sk-parallel-item:last-child::after {align-self: flex-start;width: 50%;}#sk-container-id-1 div.sk-parallel-item:only-child::after {width: 0;}#sk-container-id-1 div.sk-dashed-wrapped {border: 1px dashed gray;margin: 0 0.4em 0.5em 0.4em;box-sizing: border-box;padding-bottom: 0.4em;background-color: white;}#sk-container-id-1 div.sk-label label {font-family: monospace;font-weight: bold;display: inline-block;line-height: 1.2em;}#sk-container-id-1 div.sk-label-container {text-align: center;}#sk-container-id-1 div.sk-container {/* jupyter's `normalize.less` sets `[hidden] { display: none; }` but bootstrap.min.css set `[hidden] { display: none !important; }` so we also need the `!important` here to be able to override the default hidden behavior on the sphinx rendered scikit-learn.org. See: https://github.com/scikit-learn/scikit-learn/issues/21755 */display: inline-block !important;position: relative;}#sk-container-id-1 div.sk-text-repr-fallback {display: none;}</style><div id=\"sk-container-id-1\" class=\"sk-top-container\"><div class=\"sk-text-repr-fallback\"><pre>Pipeline(steps=[(&#x27;onehotencoder&#x27;, OneHotEncoder()),\n",
       "                (&#x27;linearregression&#x27;, LinearRegression())])</pre><b>In a Jupyter environment, please rerun this cell to show the HTML representation or trust the notebook. <br />On GitHub, the HTML representation is unable to render, please try loading this page with nbviewer.org.</b></div><div class=\"sk-container\" hidden><div class=\"sk-item sk-dashed-wrapped\"><div class=\"sk-label-container\"><div class=\"sk-label sk-toggleable\"><input class=\"sk-toggleable__control sk-hidden--visually\" id=\"sk-estimator-id-1\" type=\"checkbox\" ><label for=\"sk-estimator-id-1\" class=\"sk-toggleable__label sk-toggleable__label-arrow\">Pipeline</label><div class=\"sk-toggleable__content\"><pre>Pipeline(steps=[(&#x27;onehotencoder&#x27;, OneHotEncoder()),\n",
       "                (&#x27;linearregression&#x27;, LinearRegression())])</pre></div></div></div><div class=\"sk-serial\"><div class=\"sk-item\"><div class=\"sk-estimator sk-toggleable\"><input class=\"sk-toggleable__control sk-hidden--visually\" id=\"sk-estimator-id-2\" type=\"checkbox\" ><label for=\"sk-estimator-id-2\" class=\"sk-toggleable__label sk-toggleable__label-arrow\">OneHotEncoder</label><div class=\"sk-toggleable__content\"><pre>OneHotEncoder()</pre></div></div></div><div class=\"sk-item\"><div class=\"sk-estimator sk-toggleable\"><input class=\"sk-toggleable__control sk-hidden--visually\" id=\"sk-estimator-id-3\" type=\"checkbox\" ><label for=\"sk-estimator-id-3\" class=\"sk-toggleable__label sk-toggleable__label-arrow\">LinearRegression</label><div class=\"sk-toggleable__content\"><pre>LinearRegression()</pre></div></div></div></div></div></div></div>"
      ],
      "text/plain": [
       "Pipeline(steps=[('onehotencoder', OneHotEncoder()),\n",
       "                ('linearregression', LinearRegression())])"
      ]
     },
     "execution_count": 13,
     "metadata": {},
     "output_type": "execute_result"
    }
   ],
   "source": [
    "from sklearn.preprocessing import OneHotEncoder, OrdinalEncoder\n",
    "from sklearn.linear_model import LogisticRegression, SGDClassifier, Lasso\n",
    "from sklearn.neighbors import KNeighborsClassifier\n",
    "from sklearn.svm import SVC\n",
    "from sklearn.tree import DecisionTreeRegressor\n",
    "from sklearn.linear_model import LinearRegression\n",
    "from sklearn.pipeline import make_pipeline\n",
    "\n",
    "# Onehot ==> Linéaire\n",
    "# Ordinal = Treebased\n",
    "\n",
    "model = make_pipeline(OneHotEncoder(),LinearRegression())\n",
    "model"
   ]
  },
  {
   "cell_type": "code",
   "execution_count": null,
   "metadata": {},
   "outputs": [],
   "source": []
  },
  {
   "cell_type": "code",
   "execution_count": null,
   "metadata": {},
   "outputs": [],
   "source": [
    "from sklearn.model_selection import cross_validate\n",
    "\n",
    "cv_results = cross_validate(model, data, target, cv = 10)\n"
   ]
  },
  {
   "cell_type": "code",
   "execution_count": null,
   "metadata": {},
   "outputs": [
    {
     "data": {
      "text/plain": [
       "0.9554594699294275"
      ]
     },
     "execution_count": 15,
     "metadata": {},
     "output_type": "execute_result"
    }
   ],
   "source": [
    "cv_results[\"test_score\"].mean()"
   ]
  },
  {
   "cell_type": "code",
   "execution_count": null,
   "metadata": {},
   "outputs": [],
   "source": []
  }
 ],
 "metadata": {
  "kernelspec": {
   "display_name": "Python 3.8.10 64-bit",
   "language": "python",
   "name": "python3"
  },
  "language_info": {
   "codemirror_mode": {
    "name": "ipython",
    "version": 3
   },
   "file_extension": ".py",
   "mimetype": "text/x-python",
   "name": "python",
   "nbconvert_exporter": "python",
   "pygments_lexer": "ipython3",
   "version": "3.8.10"
  },
  "orig_nbformat": 4,
  "vscode": {
   "interpreter": {
    "hash": "916dbcbb3f70747c44a77c7bcd40155683ae19c65e1c03b4aa3499c5328201f1"
   }
  }
 },
 "nbformat": 4,
 "nbformat_minor": 2
}
