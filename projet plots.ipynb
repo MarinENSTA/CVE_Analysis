{
 "cells": [
  {
   "cell_type": "markdown",
   "metadata": {},
   "source": [
    "# **Initialisation**\n",
    "Initialisation de la base de données spark"
   ]
  },
  {
   "cell_type": "code",
   "execution_count": null,
   "metadata": {},
   "outputs": [],
   "source": [
    "import os\n",
    "import findspark\n",
    "\n",
    "findspark.init()\n",
    "\n",
    "import spark\n"
   ]
  },
  {
   "cell_type": "code",
   "execution_count": null,
   "metadata": {},
   "outputs": [],
   "source": [
    "import configparser\n",
    "\n",
    "config = configparser.ConfigParser()"
   ]
  },
  {
   "cell_type": "code",
   "execution_count": null,
   "metadata": {},
   "outputs": [],
   "source": [
    "from pyspark.sql import SparkSession\n",
    "from pyspark.sql.functions import *\n",
    "\n",
    "spark = SparkSession.builder.master(\"local\").appName(\"Import\").getOrCreate()"
   ]
  },
  {
   "cell_type": "markdown",
   "metadata": {},
   "source": [
    "# **Extraction**\n",
    "Premier regard sur la base de données "
   ]
  },
  {
   "cell_type": "markdown",
   "metadata": {},
   "source": [
    "Extraction des données pertinents via select(). "
   ]
  },
  {
   "cell_type": "code",
   "execution_count": null,
   "metadata": {},
   "outputs": [],
   "source": [
    "df = spark.read.option(\"multiline\",\"true\").json(\"/Users/nicolassigal/Desktop/Scolaire/ENSTA/3A/ASI322/CVE_Analysis/src/nvdcve-1.1-2022.json\")\n",
    "\n",
    "print(\"Schema initial : \")\n",
    "#df.printSchema()\n",
    "\n",
    "df = df.select(explode(col(\"CVE_Items\")))\n",
    "\n",
    "df = df.select(\"col.publishedDate\",\"col.cve.CVE_data_meta.*\",\"col.cve.description.description_data.value\",\"col.impact.baseMetricV3.cvssV3.*\").drop(\"version\").drop(\"vectorString\")\n",
    "df2 = df.withColumnRenamed(\"publishedDate\",\"date\")\n",
    "df2 = df2.withColumn(\"date\",df2.date[0:7])\n",
    "df3 = df2.groupBy(\"date\").count()\n",
    "df3 = df3.orderBy(\"date\")\n",
    "\n",
    "print(\"Columns : \",df2.columns)\n",
    "#df.printSchema()"
   ]
  },
  {
   "cell_type": "markdown",
   "metadata": {},
   "source": [
    "Affichage des premières lignes et du nombre de samples à disposition pour se faire une idée."
   ]
  },
  {
   "cell_type": "code",
   "execution_count": null,
   "metadata": {},
   "outputs": [],
   "source": [
    "print(\"Number of available rows : \", df2.count())\n",
    "df2.show(5)"
   ]
  },
  {
   "cell_type": "markdown",
   "metadata": {},
   "source": [
    "Essai de la fonction tail pour récupérer des données. Pas idéal. La fonction \"collect()\" semble bien plus adaptée."
   ]
  },
  {
   "cell_type": "code",
   "execution_count": null,
   "metadata": {},
   "outputs": [],
   "source": [
    "print(df2.tail(1)) "
   ]
  },
  {
   "cell_type": "markdown",
   "metadata": {},
   "source": [
    "# Représentation graphique\n",
    "Tentative de plot."
   ]
  },
  {
   "cell_type": "code",
   "execution_count": null,
   "metadata": {},
   "outputs": [],
   "source": [
    "import pandas as pd\n",
    "pandasDF2 = df2.toPandas()\n",
    "pandasDF3 = df3.toPandas()\n",
    "print(pandasDF2.columns)\n",
    "\n",
    "print(pandasDF2.shape[0])\n",
    "\n",
    "pandasDF2 = pandasDF2[pandasDF2['baseScore'].notna()]\n",
    "\n",
    "print(pandasDF2.shape[0])\n",
    "\n",
    "\n",
    "pandasDF2.head(3)"
   ]
  },
  {
   "cell_type": "code",
   "execution_count": null,
   "metadata": {},
   "outputs": [],
   "source": [
    "target_column = \"baseScore\"\n",
    "target = pandasDF2[target_column]\n",
    "\n",
    "categorical_columns = [ \"attackComplexity\",\n",
    "                        \"attackVector\",\n",
    "                        \"availabilityImpact\",\n",
    "                        \"confidentialityImpact\",\n",
    "                        \"integrityImpact\",\n",
    "                        \"privilegesRequired\",\n",
    "                        \"scope\",\n",
    "                        \"userInteraction\"]\n",
    "\n",
    "data = pandasDF2[categorical_columns]\n",
    "\n",
    "def test(list):\n",
    "      return list[0]\n",
    "\n",
    "test_column = pandasDF2[\"value\"].apply(test)"
   ]
  },
  {
   "cell_type": "markdown",
   "metadata": {},
   "source": [
    "Affichage des types des différentes colonnes"
   ]
  },
  {
   "cell_type": "code",
   "execution_count": null,
   "metadata": {},
   "outputs": [],
   "source": [
    "import numpy as np\n",
    "import matplotlib.pyplot as plt\n",
    "\n",
    "dates = pandasDF3[\"date\"]\n",
    "count = pandasDF3[\"count\"]\n",
    "fig = plt.figure()\n",
    "ax = fig.add_axes([0,0,1,1])\n",
    "ax.bar(dates,count,color='y')\n",
    "\n",
    "plt.rc('xtick', labelsize=5) \n",
    "plt.rc('ytick', labelsize=5) \n",
    "plt.rcParams['figure.dpi'] = 1500\n",
    "\n",
    "#pandasDF.loc[116]"
   ]
  }
 ],
 "metadata": {
  "kernelspec": {
   "display_name": "Python 3.7.6 ('base')",
   "language": "python",
   "name": "python3"
  },
  "language_info": {
   "codemirror_mode": {
    "name": "ipython",
    "version": 3
   },
   "file_extension": ".py",
   "mimetype": "text/x-python",
   "name": "python",
   "nbconvert_exporter": "python",
   "pygments_lexer": "ipython3",
   "version": "3.7.6"
  },
  "orig_nbformat": 4,
  "vscode": {
   "interpreter": {
    "hash": "457bf0098c1634cecc5c9daa8d257326c1e8be58e5aacddb65818b21a4da9a6b"
   }
  }
 },
 "nbformat": 4,
 "nbformat_minor": 2
}
