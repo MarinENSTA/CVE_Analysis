{
 "cells": [
  {
   "cell_type": "markdown",
   "metadata": {},
   "source": [
    "# **Initialisation**\n",
    "Initialisation de la base de données spark"
   ]
  },
  {
   "cell_type": "code",
   "execution_count": 40,
   "metadata": {},
   "outputs": [],
   "source": [
    "import os\n",
    "import findspark\n",
    "\n",
    "findspark.init()\n",
    "\n",
    "import spark\n"
   ]
  },
  {
   "cell_type": "code",
   "execution_count": 41,
   "metadata": {},
   "outputs": [],
   "source": [
    "import configparser\n",
    "\n",
    "config = configparser.ConfigParser()"
   ]
  },
  {
   "cell_type": "code",
   "execution_count": 42,
   "metadata": {},
   "outputs": [],
   "source": [
    "from pyspark.sql import SparkSession\n",
    "from pyspark.sql.functions import *\n",
    "\n",
    "spark = SparkSession.builder.master(\"local\").appName(\"Import\").getOrCreate()"
   ]
  },
  {
   "cell_type": "markdown",
   "metadata": {},
   "source": [
    "# **Extraction**\n",
    "Premier regard sur la base de données "
   ]
  },
  {
   "cell_type": "markdown",
   "metadata": {},
   "source": [
    "Extraction des données pertinents via select(). "
   ]
  },
  {
   "cell_type": "code",
   "execution_count": 43,
   "metadata": {},
   "outputs": [
    {
     "name": "stdout",
     "output_type": "stream",
     "text": [
      "Importing nvdcve-1.1-2021.json ...\n",
      "Importing nvdcve-1.1-2017.json ...\n",
      "Importing nvdcve-1.1-2016.json ...\n",
      "Importing nvdcve-1.1-2020.json ...\n",
      "Importing nvdcve-1.1-2019.json ...\n",
      "Importing nvdcve-1.1-2018.json ...\n",
      "Importing nvdcve-1.1-2022.json ...\n",
      "Columns :  ['date', 'ASSIGNER', 'ID', 'value', 'attackComplexity', 'attackVector', 'availabilityImpact', 'baseScore', 'baseSeverity', 'confidentialityImpact', 'integrityImpact', 'privilegesRequired', 'scope', 'userInteraction']\n",
      "root\n",
      " |-- publishedDate: string (nullable = true)\n",
      " |-- ASSIGNER: string (nullable = true)\n",
      " |-- ID: string (nullable = true)\n",
      " |-- value: array (nullable = true)\n",
      " |    |-- element: string (containsNull = true)\n",
      " |-- attackComplexity: string (nullable = true)\n",
      " |-- attackVector: string (nullable = true)\n",
      " |-- availabilityImpact: string (nullable = true)\n",
      " |-- baseScore: double (nullable = true)\n",
      " |-- baseSeverity: string (nullable = true)\n",
      " |-- confidentialityImpact: string (nullable = true)\n",
      " |-- integrityImpact: string (nullable = true)\n",
      " |-- privilegesRequired: string (nullable = true)\n",
      " |-- scope: string (nullable = true)\n",
      " |-- userInteraction: string (nullable = true)\n",
      "\n"
     ]
    }
   ],
   "source": [
    "df = spark.read.option(\"multiline\",\"true\").json(\"/Users/nicolassigal/Desktop/Scolaire/ENSTA/3A/ASI322/CVE_Analysis/src/nvdcve-1.1-2022.json\")\n",
    "df = df.select(explode(col(\"CVE_Items\")))\n",
    "df = df.select(\"col.publishedDate\",\"col.cve.CVE_data_meta.*\",\"col.cve.description.description_data.value\",\"col.impact.baseMetricV3.cvssV3.*\").drop(\"version\").drop(\"vectorString\")\n",
    "\n",
    "json_files = os.listdir(\"/Users/nicolassigal/Desktop/Scolaire/ENSTA/3A/ASI322/CVE_Analysis/src/\")\n",
    "for json in json_files:\n",
    "      if json_files != 'nvdcve-1.1-2022.json' :\n",
    "            print(\"Importing\", json,\"...\")\n",
    "            df_temp = spark.read.option(\"multiline\",\"true\").json(\"/Users/nicolassigal/Desktop/Scolaire/ENSTA/3A/ASI322/CVE_Analysis/src/\"+json)\n",
    "            df_temp = df_temp.select(explode(col(\"CVE_Items\")))\n",
    "            df_temp = df_temp.select(\"col.publishedDate\",\"col.cve.CVE_data_meta.*\",\"col.cve.description.description_data.value\",\"col.impact.baseMetricV3.cvssV3.*\").drop(\"version\").drop(\"vectorString\")\n",
    "            df = df.union(df_temp)\n",
    "\n",
    "df2 = df.withColumnRenamed(\"publishedDate\",\"date\")\n",
    "df2 = df2.withColumn(\"date\",df2.date[0:7])\n",
    "df3 = df2.groupBy(\"date\").count()\n",
    "df3 = df3.orderBy(\"date\")\n",
    "\n",
    "print(\"Columns : \",df2.columns)\n",
    "df.printSchema()"
   ]
  },
  {
   "cell_type": "markdown",
   "metadata": {},
   "source": [
    "Affichage des premières lignes et du nombre de samples à disposition pour se faire une idée."
   ]
  },
  {
   "cell_type": "code",
   "execution_count": 44,
   "metadata": {},
   "outputs": [
    {
     "name": "stdout",
     "output_type": "stream",
     "text": [
      "Number of available rows :  136735\n",
      "+-------+--------------------+-------------+--------------------+----------------+------------+------------------+---------+------------+---------------------+---------------+------------------+---------+---------------+\n",
      "|   date|            ASSIGNER|           ID|               value|attackComplexity|attackVector|availabilityImpact|baseScore|baseSeverity|confidentialityImpact|integrityImpact|privilegesRequired|    scope|userInteraction|\n",
      "+-------+--------------------+-------------+--------------------+----------------+------------+------------------+---------+------------+---------------------+---------------+------------------+---------+---------------+\n",
      "|2022-03|    secure@intel.com|CVE-2022-0001|[Non-transparent ...|             LOW|       LOCAL|              NONE|      6.5|      MEDIUM|                 HIGH|           NONE|               LOW|  CHANGED|           NONE|\n",
      "|2022-03|    secure@intel.com|CVE-2022-0002|[Non-transparent ...|             LOW|       LOCAL|              NONE|      6.5|      MEDIUM|                 HIGH|           NONE|               LOW|  CHANGED|           NONE|\n",
      "|2022-05|    secure@intel.com|CVE-2022-0004|[Hardware debug m...|             LOW|    PHYSICAL|              HIGH|      6.8|      MEDIUM|                 HIGH|           HIGH|              NONE|UNCHANGED|           NONE|\n",
      "|2022-05|    secure@intel.com|CVE-2022-0005|[Sensitive inform...|             LOW|    PHYSICAL|              NONE|      2.4|         LOW|                  LOW|           NONE|              NONE|UNCHANGED|           NONE|\n",
      "|2022-02|psirt@paloaltonet...|CVE-2022-0011|[PAN-OS software ...|             LOW|     NETWORK|              NONE|      6.5|      MEDIUM|                 NONE|           HIGH|               LOW|UNCHANGED|           NONE|\n",
      "+-------+--------------------+-------------+--------------------+----------------+------------+------------------+---------+------------+---------------------+---------------+------------------+---------+---------------+\n",
      "only showing top 5 rows\n",
      "\n"
     ]
    }
   ],
   "source": [
    "print(\"Number of available rows : \", df2.count())\n",
    "df2.show(5)"
   ]
  },
  {
   "cell_type": "markdown",
   "metadata": {},
   "source": [
    "Essai de la fonction tail pour récupérer des données. Pas idéal. La fonction \"collect()\" semble bien plus adaptée."
   ]
  },
  {
   "cell_type": "code",
   "execution_count": 45,
   "metadata": {},
   "outputs": [
    {
     "name": "stdout",
     "output_type": "stream",
     "text": [
      "[Row(date='2022-11', ASSIGNER='cve@mitre.org', ID='CVE-2022-45939', value=['GNU Emacs through 28.2 allows attackers to execute commands via shell metacharacters in the name of a source-code file, because lib-src/etags.c uses the system C library function in its implementation of the ctags program. For example, a victim may use the \"ctags *\" command (suggested in the ctags documentation) in a situation where the current working directory has contents that depend on untrusted input.'], attackComplexity=None, attackVector=None, availabilityImpact=None, baseScore=None, baseSeverity=None, confidentialityImpact=None, integrityImpact=None, privilegesRequired=None, scope=None, userInteraction=None)]\n"
     ]
    }
   ],
   "source": [
    "print(df2.tail(1))"
   ]
  },
  {
   "cell_type": "markdown",
   "metadata": {},
   "source": [
    "# Représentation graphique\n",
    "Tentative de plot."
   ]
  },
  {
   "cell_type": "code",
   "execution_count": 46,
   "metadata": {},
   "outputs": [
    {
     "name": "stdout",
     "output_type": "stream",
     "text": [
      "Index(['date', 'ASSIGNER', 'ID', 'value', 'attackComplexity', 'attackVector',\n",
      "       'availabilityImpact', 'baseScore', 'baseSeverity',\n",
      "       'confidentialityImpact', 'integrityImpact', 'privilegesRequired',\n",
      "       'scope', 'userInteraction'],\n",
      "      dtype='object')\n",
      "136735\n",
      "127932\n"
     ]
    },
    {
     "data": {
      "text/html": [
       "<div>\n",
       "<style scoped>\n",
       "    .dataframe tbody tr th:only-of-type {\n",
       "        vertical-align: middle;\n",
       "    }\n",
       "\n",
       "    .dataframe tbody tr th {\n",
       "        vertical-align: top;\n",
       "    }\n",
       "\n",
       "    .dataframe thead th {\n",
       "        text-align: right;\n",
       "    }\n",
       "</style>\n",
       "<table border=\"1\" class=\"dataframe\">\n",
       "  <thead>\n",
       "    <tr style=\"text-align: right;\">\n",
       "      <th></th>\n",
       "      <th>date</th>\n",
       "      <th>ASSIGNER</th>\n",
       "      <th>ID</th>\n",
       "      <th>value</th>\n",
       "      <th>attackComplexity</th>\n",
       "      <th>attackVector</th>\n",
       "      <th>availabilityImpact</th>\n",
       "      <th>baseScore</th>\n",
       "      <th>baseSeverity</th>\n",
       "      <th>confidentialityImpact</th>\n",
       "      <th>integrityImpact</th>\n",
       "      <th>privilegesRequired</th>\n",
       "      <th>scope</th>\n",
       "      <th>userInteraction</th>\n",
       "    </tr>\n",
       "  </thead>\n",
       "  <tbody>\n",
       "    <tr>\n",
       "      <th>0</th>\n",
       "      <td>2022-03</td>\n",
       "      <td>secure@intel.com</td>\n",
       "      <td>CVE-2022-0001</td>\n",
       "      <td>[Non-transparent sharing of branch predictor s...</td>\n",
       "      <td>LOW</td>\n",
       "      <td>LOCAL</td>\n",
       "      <td>NONE</td>\n",
       "      <td>6.5</td>\n",
       "      <td>MEDIUM</td>\n",
       "      <td>HIGH</td>\n",
       "      <td>NONE</td>\n",
       "      <td>LOW</td>\n",
       "      <td>CHANGED</td>\n",
       "      <td>NONE</td>\n",
       "    </tr>\n",
       "    <tr>\n",
       "      <th>1</th>\n",
       "      <td>2022-03</td>\n",
       "      <td>secure@intel.com</td>\n",
       "      <td>CVE-2022-0002</td>\n",
       "      <td>[Non-transparent sharing of branch predictor w...</td>\n",
       "      <td>LOW</td>\n",
       "      <td>LOCAL</td>\n",
       "      <td>NONE</td>\n",
       "      <td>6.5</td>\n",
       "      <td>MEDIUM</td>\n",
       "      <td>HIGH</td>\n",
       "      <td>NONE</td>\n",
       "      <td>LOW</td>\n",
       "      <td>CHANGED</td>\n",
       "      <td>NONE</td>\n",
       "    </tr>\n",
       "    <tr>\n",
       "      <th>2</th>\n",
       "      <td>2022-05</td>\n",
       "      <td>secure@intel.com</td>\n",
       "      <td>CVE-2022-0004</td>\n",
       "      <td>[Hardware debug modes and processor INIT setti...</td>\n",
       "      <td>LOW</td>\n",
       "      <td>PHYSICAL</td>\n",
       "      <td>HIGH</td>\n",
       "      <td>6.8</td>\n",
       "      <td>MEDIUM</td>\n",
       "      <td>HIGH</td>\n",
       "      <td>HIGH</td>\n",
       "      <td>NONE</td>\n",
       "      <td>UNCHANGED</td>\n",
       "      <td>NONE</td>\n",
       "    </tr>\n",
       "  </tbody>\n",
       "</table>\n",
       "</div>"
      ],
      "text/plain": [
       "      date          ASSIGNER             ID  \\\n",
       "0  2022-03  secure@intel.com  CVE-2022-0001   \n",
       "1  2022-03  secure@intel.com  CVE-2022-0002   \n",
       "2  2022-05  secure@intel.com  CVE-2022-0004   \n",
       "\n",
       "                                               value attackComplexity  \\\n",
       "0  [Non-transparent sharing of branch predictor s...              LOW   \n",
       "1  [Non-transparent sharing of branch predictor w...              LOW   \n",
       "2  [Hardware debug modes and processor INIT setti...              LOW   \n",
       "\n",
       "  attackVector availabilityImpact  baseScore baseSeverity  \\\n",
       "0        LOCAL               NONE        6.5       MEDIUM   \n",
       "1        LOCAL               NONE        6.5       MEDIUM   \n",
       "2     PHYSICAL               HIGH        6.8       MEDIUM   \n",
       "\n",
       "  confidentialityImpact integrityImpact privilegesRequired      scope  \\\n",
       "0                  HIGH            NONE                LOW    CHANGED   \n",
       "1                  HIGH            NONE                LOW    CHANGED   \n",
       "2                  HIGH            HIGH               NONE  UNCHANGED   \n",
       "\n",
       "  userInteraction  \n",
       "0            NONE  \n",
       "1            NONE  \n",
       "2            NONE  "
      ]
     },
     "execution_count": 46,
     "metadata": {},
     "output_type": "execute_result"
    }
   ],
   "source": [
    "import pandas as pd\n",
    "pandasDF2 = df2.toPandas()\n",
    "pandasDF3 = df3.toPandas()\n",
    "print(pandasDF2.columns)\n",
    "\n",
    "print(pandasDF2.shape[0])\n",
    "\n",
    "pandasDF2 = pandasDF2[pandasDF2['baseScore'].notna()]\n",
    "\n",
    "print(pandasDF2.shape[0])\n",
    "\n",
    "\n",
    "pandasDF2.head(3)"
   ]
  },
  {
   "cell_type": "code",
   "execution_count": 47,
   "metadata": {},
   "outputs": [],
   "source": [
    "target_column = \"baseScore\"\n",
    "target = pandasDF2[target_column]\n",
    "\n",
    "categorical_columns = [ \"attackComplexity\",\n",
    "                        \"attackVector\",\n",
    "                        \"availabilityImpact\",\n",
    "                        \"confidentialityImpact\",\n",
    "                        \"integrityImpact\",\n",
    "                        \"privilegesRequired\",\n",
    "                        \"scope\",\n",
    "                        \"userInteraction\"]\n",
    "\n",
    "data = pandasDF2[categorical_columns]\n",
    "\n",
    "def test(list):\n",
    "      return list[0]\n",
    "\n",
    "test_column = pandasDF2[\"value\"].apply(test)"
   ]
  },
  {
   "cell_type": "markdown",
   "metadata": {},
   "source": [
    "Affichage des types des différentes colonnes"
   ]
  },
  {
   "cell_type": "code",
   "execution_count": null,
   "metadata": {},
   "outputs": [],
   "source": [
    "import numpy as np\n",
    "import matplotlib.pyplot as plt\n",
    "\n",
    "dates = pandasDF3[\"date\"]\n",
    "count = pandasDF3[\"count\"]\n",
    "fig = plt.figure()\n",
    "ax = fig.add_axes([0,0,1,1])\n",
    "ax.bar(dates,count,color='y')\n",
    "\n",
    "plt.xticks(rotation=45, ha=\"right\")\n",
    "plt.rc('xtick', labelsize=1) \n",
    "plt.rc('ytick', labelsize=5) \n",
    "plt.rcParams['figure.dpi'] = 750\n",
    "\n",
    "#pandasDF.loc[116]"
   ]
  }
 ],
 "metadata": {
  "kernelspec": {
   "display_name": "Python 3.7.6 ('base')",
   "language": "python",
   "name": "python3"
  },
  "language_info": {
   "codemirror_mode": {
    "name": "ipython",
    "version": 3
   },
   "file_extension": ".py",
   "mimetype": "text/x-python",
   "name": "python",
   "nbconvert_exporter": "python",
   "pygments_lexer": "ipython3",
   "version": "3.7.6"
  },
  "orig_nbformat": 4,
  "vscode": {
   "interpreter": {
    "hash": "457bf0098c1634cecc5c9daa8d257326c1e8be58e5aacddb65818b21a4da9a6b"
   }
  }
 },
 "nbformat": 4,
 "nbformat_minor": 2
}
